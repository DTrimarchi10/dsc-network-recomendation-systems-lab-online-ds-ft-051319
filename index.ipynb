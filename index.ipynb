{
 "cells": [
  {
   "cell_type": "markdown",
   "metadata": {},
   "source": [
    "# Recommendation Systems - Lab\n",
    "\n",
    "## Introduction\n",
    "\n",
    "Now that you've gotten an introduction to collaborative filtering and recommendation systems, it's time to put your skills to test and attempt to build a recommendation system for a real world dataset! For this exercise, you'll be using a dataset regarding the book reviews on the Amazon marketplace. While the previous lesson focused on user-based recommendation systems, you'll apply a parallel process for an item-based recommendation system to recommend similar books at the bottom of the product page.\n",
    "\n",
    "## Objectives\n",
    "\n",
    "You will be able to:\n",
    "* Implement a recommendation system on a real world dataset"
   ]
  },
  {
   "cell_type": "markdown",
   "metadata": {},
   "source": [
    "## Load the Dataset"
   ]
  },
  {
   "cell_type": "code",
   "execution_count": 1,
   "metadata": {},
   "outputs": [],
   "source": [
    "import numpy as np\n",
    "import pandas as pd"
   ]
  },
  {
   "cell_type": "code",
   "execution_count": 17,
   "metadata": {},
   "outputs": [
    {
     "name": "stdout",
     "output_type": "stream",
     "text": [
      "(741124, 3)\n"
     ]
    },
    {
     "data": {
      "text/html": [
       "<div>\n",
       "<style scoped>\n",
       "    .dataframe tbody tr th:only-of-type {\n",
       "        vertical-align: middle;\n",
       "    }\n",
       "\n",
       "    .dataframe tbody tr th {\n",
       "        vertical-align: top;\n",
       "    }\n",
       "\n",
       "    .dataframe thead th {\n",
       "        text-align: right;\n",
       "    }\n",
       "</style>\n",
       "<table border=\"1\" class=\"dataframe\">\n",
       "  <thead>\n",
       "    <tr style=\"text-align: right;\">\n",
       "      <th></th>\n",
       "      <th>ASIN1</th>\n",
       "      <th>ASIN2</th>\n",
       "      <th>Weight</th>\n",
       "    </tr>\n",
       "  </thead>\n",
       "  <tbody>\n",
       "    <tr>\n",
       "      <th>0</th>\n",
       "      <td>0827229534</td>\n",
       "      <td>0804215715</td>\n",
       "      <td>0.7</td>\n",
       "    </tr>\n",
       "    <tr>\n",
       "      <th>1</th>\n",
       "      <td>0827229534</td>\n",
       "      <td>156101074X</td>\n",
       "      <td>0.5</td>\n",
       "    </tr>\n",
       "    <tr>\n",
       "      <th>2</th>\n",
       "      <td>0827229534</td>\n",
       "      <td>0687023955</td>\n",
       "      <td>0.8</td>\n",
       "    </tr>\n",
       "    <tr>\n",
       "      <th>3</th>\n",
       "      <td>0827229534</td>\n",
       "      <td>0687074231</td>\n",
       "      <td>0.8</td>\n",
       "    </tr>\n",
       "    <tr>\n",
       "      <th>4</th>\n",
       "      <td>0827229534</td>\n",
       "      <td>082721619X</td>\n",
       "      <td>0.7</td>\n",
       "    </tr>\n",
       "  </tbody>\n",
       "</table>\n",
       "</div>"
      ],
      "text/plain": [
       "        ASIN1       ASIN2  Weight\n",
       "0  0827229534  0804215715     0.7\n",
       "1  0827229534  156101074X     0.5\n",
       "2  0827229534  0687023955     0.8\n",
       "3  0827229534  0687074231     0.8\n",
       "4  0827229534  082721619X     0.7"
      ]
     },
     "execution_count": 17,
     "metadata": {},
     "output_type": "execute_result"
    }
   ],
   "source": [
    "#Your code here\n",
    "# books_data.edgelist\n",
    "# books_meta.txt\n",
    "\n",
    "df = pd.read_csv('books_data.edgelist',delimiter=\" \",header=None,names=['ASIN1','ASIN2','Weight'])\n",
    "print(df.shape)\n",
    "df.head()"
   ]
  },
  {
   "cell_type": "markdown",
   "metadata": {},
   "source": [
    "## Load the MetaData"
   ]
  },
  {
   "cell_type": "code",
   "execution_count": 12,
   "metadata": {},
   "outputs": [
    {
     "data": {
      "text/html": [
       "<div>\n",
       "<style scoped>\n",
       "    .dataframe tbody tr th:only-of-type {\n",
       "        vertical-align: middle;\n",
       "    }\n",
       "\n",
       "    .dataframe tbody tr th {\n",
       "        vertical-align: top;\n",
       "    }\n",
       "\n",
       "    .dataframe thead th {\n",
       "        text-align: right;\n",
       "    }\n",
       "</style>\n",
       "<table border=\"1\" class=\"dataframe\">\n",
       "  <thead>\n",
       "    <tr style=\"text-align: right;\">\n",
       "      <th></th>\n",
       "      <th>ASIN</th>\n",
       "      <th>Title</th>\n",
       "      <th>Categories</th>\n",
       "      <th>Group</th>\n",
       "      <th>SalesRank</th>\n",
       "      <th>TotalReviews</th>\n",
       "      <th>AvgRating</th>\n",
       "      <th>DegreeCentrality</th>\n",
       "      <th>ClusteringCoeff</th>\n",
       "    </tr>\n",
       "    <tr>\n",
       "      <th>Id</th>\n",
       "      <th></th>\n",
       "      <th></th>\n",
       "      <th></th>\n",
       "      <th></th>\n",
       "      <th></th>\n",
       "      <th></th>\n",
       "      <th></th>\n",
       "      <th></th>\n",
       "      <th></th>\n",
       "    </tr>\n",
       "  </thead>\n",
       "  <tbody>\n",
       "    <tr>\n",
       "      <th>1</th>\n",
       "      <td>0827229534</td>\n",
       "      <td>Patterns of Preaching: A Sermon Sampler</td>\n",
       "      <td>clergi sermon subject religion preach spiritu ...</td>\n",
       "      <td>Book</td>\n",
       "      <td>396585</td>\n",
       "      <td>2</td>\n",
       "      <td>5.0</td>\n",
       "      <td>8</td>\n",
       "      <td>0.80</td>\n",
       "    </tr>\n",
       "    <tr>\n",
       "      <th>2</th>\n",
       "      <td>0738700797</td>\n",
       "      <td>Candlemas: Feast of Flames</td>\n",
       "      <td>subject witchcraft earth religion spiritu base...</td>\n",
       "      <td>Book</td>\n",
       "      <td>168596</td>\n",
       "      <td>12</td>\n",
       "      <td>4.5</td>\n",
       "      <td>9</td>\n",
       "      <td>0.85</td>\n",
       "    </tr>\n",
       "    <tr>\n",
       "      <th>3</th>\n",
       "      <td>0486287785</td>\n",
       "      <td>World War II Allied Fighter Planes Trading Cards</td>\n",
       "      <td>general hobbi subject craft home garden book</td>\n",
       "      <td>Book</td>\n",
       "      <td>1270652</td>\n",
       "      <td>1</td>\n",
       "      <td>5.0</td>\n",
       "      <td>0</td>\n",
       "      <td>0.00</td>\n",
       "    </tr>\n",
       "    <tr>\n",
       "      <th>4</th>\n",
       "      <td>0842328327</td>\n",
       "      <td>Life Application Bible Commentary: 1 and 2 Tim...</td>\n",
       "      <td>spiritu translat commentari christian book gui...</td>\n",
       "      <td>Book</td>\n",
       "      <td>631289</td>\n",
       "      <td>1</td>\n",
       "      <td>4.0</td>\n",
       "      <td>6</td>\n",
       "      <td>0.79</td>\n",
       "    </tr>\n",
       "    <tr>\n",
       "      <th>5</th>\n",
       "      <td>1577943082</td>\n",
       "      <td>Prayers That Avail Much for Business: Executive</td>\n",
       "      <td>subject religion spiritu busi christian live w...</td>\n",
       "      <td>Book</td>\n",
       "      <td>455160</td>\n",
       "      <td>0</td>\n",
       "      <td>0.0</td>\n",
       "      <td>4</td>\n",
       "      <td>1.00</td>\n",
       "    </tr>\n",
       "  </tbody>\n",
       "</table>\n",
       "</div>"
      ],
      "text/plain": [
       "          ASIN                                              Title  \\\n",
       "Id                                                                  \n",
       "1   0827229534            Patterns of Preaching: A Sermon Sampler   \n",
       "2   0738700797                         Candlemas: Feast of Flames   \n",
       "3   0486287785   World War II Allied Fighter Planes Trading Cards   \n",
       "4   0842328327  Life Application Bible Commentary: 1 and 2 Tim...   \n",
       "5   1577943082    Prayers That Avail Much for Business: Executive   \n",
       "\n",
       "                                           Categories Group  SalesRank  \\\n",
       "Id                                                                       \n",
       "1   clergi sermon subject religion preach spiritu ...  Book     396585   \n",
       "2   subject witchcraft earth religion spiritu base...  Book     168596   \n",
       "3        general hobbi subject craft home garden book  Book    1270652   \n",
       "4   spiritu translat commentari christian book gui...  Book     631289   \n",
       "5   subject religion spiritu busi christian live w...  Book     455160   \n",
       "\n",
       "    TotalReviews  AvgRating  DegreeCentrality  ClusteringCoeff  \n",
       "Id                                                              \n",
       "1              2        5.0                 8             0.80  \n",
       "2             12        4.5                 9             0.85  \n",
       "3              1        5.0                 0             0.00  \n",
       "4              1        4.0                 6             0.79  \n",
       "5              0        0.0                 4             1.00  "
      ]
     },
     "execution_count": 12,
     "metadata": {},
     "output_type": "execute_result"
    }
   ],
   "source": [
    "#Your code here\n",
    "metadata = pd.read_csv('books_meta.txt',delimiter=\"\\t\",index_col=0)\n",
    "metadata.head()"
   ]
  },
  {
   "cell_type": "markdown",
   "metadata": {},
   "source": [
    "## Select Books to Test Your Recommender On\n",
    "\n",
    "Select a small subset of books that you are interested in generating recommendations for. "
   ]
  },
  {
   "cell_type": "code",
   "execution_count": 41,
   "metadata": {
    "scrolled": true
   },
   "outputs": [
    {
     "data": {
      "text/plain": [
       "ASIN                                                       096693170X\n",
       "Title                             The Y2K Survival Guide and Cookbook\n",
       "Categories          busi book com cook offic futurolog wine genera...\n",
       "Group                                                            Book\n",
       "SalesRank                                                      344392\n",
       "TotalReviews                                                        9\n",
       "AvgRating                                                           5\n",
       "DegreeCentrality                                                    5\n",
       "ClusteringCoeff                                                   0.9\n",
       "Name: 5570, dtype: object"
      ]
     },
     "execution_count": 41,
     "metadata": {},
     "output_type": "execute_result"
    }
   ],
   "source": [
    "#Your code here\n",
    "metadata.loc[5570]"
   ]
  },
  {
   "cell_type": "markdown",
   "metadata": {},
   "source": [
    "## Generate Recommendations for a Few Books of Choice\n",
    "\n",
    "The 'books_data.edgelist' has conveniently already calculated the distance between items for you. Given this preprocessed and data, it's time to employ collaborative filtering to generate recommendations! Generate the top 10 recommendations for each book in the subset you chose. Be sure to print the book name that you are generating recommendations for as well as the name of the books being recommended."
   ]
  },
  {
   "cell_type": "code",
   "execution_count": 98,
   "metadata": {},
   "outputs": [],
   "source": [
    "def get_book_recommendations(metadata_index,n=10):\n",
    "    title = metadata.Title[metadata_index]\n",
    "    book_ID = metadata.ASIN[metadata_index]\n",
    "    recommendations = df[(df.ASIN1==book_ID) | (df.ASIN2==book_ID)].sort_values('Weight',\n",
    "                                                                               ascending=False).head(n)\n",
    "    print(\"Recommendations for \",title)\n",
    "    for i, row in enumerate(recommendations.index):\n",
    "        if recommendations.ASIN1[row]==book_ID:\n",
    "            book_to_recommend = recommendations.ASIN2[row]\n",
    "        else:\n",
    "            book_to_recommend = recommendations.ASIN1[row]\n",
    "        recommended_title = metadata.Title[metadata.ASIN==book_to_recommend].to_string(header=False,index=False)\n",
    "        print(f\"{i}) {recommended_title}, {recommendations.Weight[row]}\")\n",
    "    return"
   ]
  },
  {
   "cell_type": "code",
   "execution_count": 99,
   "metadata": {
    "scrolled": true
   },
   "outputs": [
    {
     "name": "stdout",
     "output_type": "stream",
     "text": [
      "Recommendations for  The Y2K Survival Guide and Cookbook\n",
      "0) Making the Best of Basics: Family Preparedness..., 0.26\n",
      "1) Emergency Food Storage & Survival Handbook : E..., 0.23\n",
      "2) When Technology Fails: A Manual for Self-Relia..., 0.1\n",
      "3) Crisis Preparedness Handbook: A Complete Guide..., 0.06\n",
      "4) Where There Is No Dentist, 0.06\n"
     ]
    }
   ],
   "source": [
    "get_book_recommendations(5570)"
   ]
  },
  {
   "cell_type": "code",
   "execution_count": null,
   "metadata": {},
   "outputs": [],
   "source": []
  },
  {
   "cell_type": "code",
   "execution_count": 100,
   "metadata": {
    "scrolled": true
   },
   "outputs": [
    {
     "data": {
      "text/html": [
       "<div>\n",
       "<style scoped>\n",
       "    .dataframe tbody tr th:only-of-type {\n",
       "        vertical-align: middle;\n",
       "    }\n",
       "\n",
       "    .dataframe tbody tr th {\n",
       "        vertical-align: top;\n",
       "    }\n",
       "\n",
       "    .dataframe thead th {\n",
       "        text-align: right;\n",
       "    }\n",
       "</style>\n",
       "<table border=\"1\" class=\"dataframe\">\n",
       "  <thead>\n",
       "    <tr style=\"text-align: right;\">\n",
       "      <th></th>\n",
       "      <th>ASIN</th>\n",
       "      <th>Title</th>\n",
       "      <th>Categories</th>\n",
       "      <th>Group</th>\n",
       "      <th>SalesRank</th>\n",
       "      <th>TotalReviews</th>\n",
       "      <th>AvgRating</th>\n",
       "      <th>DegreeCentrality</th>\n",
       "      <th>ClusteringCoeff</th>\n",
       "    </tr>\n",
       "    <tr>\n",
       "      <th>Id</th>\n",
       "      <th></th>\n",
       "      <th></th>\n",
       "      <th></th>\n",
       "      <th></th>\n",
       "      <th></th>\n",
       "      <th></th>\n",
       "      <th></th>\n",
       "      <th></th>\n",
       "      <th></th>\n",
       "    </tr>\n",
       "  </thead>\n",
       "  <tbody>\n",
       "    <tr>\n",
       "      <th>83450</th>\n",
       "      <td>0553103547</td>\n",
       "      <td>A Game of Thrones (A Song of Ice and Fire, Boo...</td>\n",
       "      <td>general subject martin author epic z seri fant...</td>\n",
       "      <td>Book</td>\n",
       "      <td>16330</td>\n",
       "      <td>1191</td>\n",
       "      <td>4.5</td>\n",
       "      <td>4</td>\n",
       "      <td>0.67</td>\n",
       "    </tr>\n",
       "    <tr>\n",
       "      <th>182190</th>\n",
       "      <td>1572701293</td>\n",
       "      <td>Thrones, Dominations</td>\n",
       "      <td>literatur seri tape book format fiction genera...</td>\n",
       "      <td>Book</td>\n",
       "      <td>395606</td>\n",
       "      <td>61</td>\n",
       "      <td>3.5</td>\n",
       "      <td>4</td>\n",
       "      <td>0.90</td>\n",
       "    </tr>\n",
       "    <tr>\n",
       "      <th>256164</th>\n",
       "      <td>0553573403</td>\n",
       "      <td>A Game of Thrones (A Song of Ice and Fire, Boo...</td>\n",
       "      <td>general subject martin author epic z seri fant...</td>\n",
       "      <td>Book</td>\n",
       "      <td>969</td>\n",
       "      <td>1196</td>\n",
       "      <td>4.5</td>\n",
       "      <td>7</td>\n",
       "      <td>0.48</td>\n",
       "    </tr>\n",
       "    <tr>\n",
       "      <th>362549</th>\n",
       "      <td>0553381687</td>\n",
       "      <td>A Game of Thrones (A Song of Ice and Fire, Boo...</td>\n",
       "      <td>general subject martin author epic z seri fant...</td>\n",
       "      <td>Book</td>\n",
       "      <td>11463</td>\n",
       "      <td>1196</td>\n",
       "      <td>4.5</td>\n",
       "      <td>4</td>\n",
       "      <td>0.67</td>\n",
       "    </tr>\n",
       "    <tr>\n",
       "      <th>457079</th>\n",
       "      <td>0312968302</td>\n",
       "      <td>Thrones, Dominations (A Lord Wimsey Mystery)</td>\n",
       "      <td>general subject british author sayer dorothi l...</td>\n",
       "      <td>Book</td>\n",
       "      <td>68918</td>\n",
       "      <td>61</td>\n",
       "      <td>3.5</td>\n",
       "      <td>7</td>\n",
       "      <td>0.81</td>\n",
       "    </tr>\n",
       "  </tbody>\n",
       "</table>\n",
       "</div>"
      ],
      "text/plain": [
       "              ASIN                                              Title  \\\n",
       "Id                                                                      \n",
       "83450   0553103547  A Game of Thrones (A Song of Ice and Fire, Boo...   \n",
       "182190  1572701293                               Thrones, Dominations   \n",
       "256164  0553573403  A Game of Thrones (A Song of Ice and Fire, Boo...   \n",
       "362549  0553381687  A Game of Thrones (A Song of Ice and Fire, Boo...   \n",
       "457079  0312968302       Thrones, Dominations (A Lord Wimsey Mystery)   \n",
       "\n",
       "                                               Categories Group  SalesRank  \\\n",
       "Id                                                                           \n",
       "83450   general subject martin author epic z seri fant...  Book      16330   \n",
       "182190  literatur seri tape book format fiction genera...  Book     395606   \n",
       "256164  general subject martin author epic z seri fant...  Book        969   \n",
       "362549  general subject martin author epic z seri fant...  Book      11463   \n",
       "457079  general subject british author sayer dorothi l...  Book      68918   \n",
       "\n",
       "        TotalReviews  AvgRating  DegreeCentrality  ClusteringCoeff  \n",
       "Id                                                                  \n",
       "83450           1191        4.5                 4             0.67  \n",
       "182190            61        3.5                 4             0.90  \n",
       "256164          1196        4.5                 7             0.48  \n",
       "362549          1196        4.5                 4             0.67  \n",
       "457079            61        3.5                 7             0.81  "
      ]
     },
     "execution_count": 100,
     "metadata": {},
     "output_type": "execute_result"
    }
   ],
   "source": [
    "GOT = metadata[metadata.Title.str.contains('Thrones')]\n",
    "GOT"
   ]
  },
  {
   "cell_type": "code",
   "execution_count": 102,
   "metadata": {},
   "outputs": [
    {
     "name": "stdout",
     "output_type": "stream",
     "text": [
      "Recommendations for  A Game of Thrones (A Song of Ice and Fire, Book 1)\n",
      "0) A Clash of Kings (A Song of Ice and Fire, Book 2), 1.0\n",
      "1) A Feast for Crows (A Song of Ice and Fire, Boo..., 0.92\n",
      "2) A Storm of Swords (A Song of Ice and Fire, Boo..., 0.85\n",
      "3) Assassin's Apprentice (The Farseer Trilogy, Bo..., 0.56\n",
      "\n",
      "Recommendations for  Thrones, Dominations\n",
      "0) Have His Carcase, 0.59\n",
      "1) The Nine Tailors, 0.58\n",
      "2) Strong Poison, 0.55\n",
      "3) Busman's Honeymoon, 0.55\n",
      "\n",
      "Recommendations for  A Game of Thrones (A Song of Ice and Fire, Book 1)\n",
      "0) A Storm of Swords : Book Three of A Song of Ic..., 1.0\n",
      "1) A Storm of Swords (A Song of Ice and Fire, Boo..., 1.0\n",
      "2) A Clash of Kings (A Song of Ice and Fire, Book 2), 1.0\n",
      "3) A Feast for Crows (A Song of Ice and Fire, Boo..., 0.92\n",
      "4) A Storm of Swords (A Song of Ice and Fire, Boo..., 0.85\n",
      "5) Assassin's Apprentice (The Farseer Trilogy, Bo..., 0.56\n",
      "6) The Fourth Tower of Inverness, 0.24\n",
      "\n",
      "Recommendations for  A Game of Thrones (A Song of Ice and Fire, Book 1)\n",
      "0) A Clash of Kings (A Song of Ice and Fire, Book 2), 1.0\n",
      "1) A Feast for Crows (A Song of Ice and Fire, Boo..., 0.92\n",
      "2) A Storm of Swords (A Song of Ice and Fire, Boo..., 0.85\n",
      "3) Assassin's Apprentice (The Farseer Trilogy, Bo..., 0.56\n",
      "\n",
      "Recommendations for  Thrones, Dominations (A Lord Wimsey Mystery)\n",
      "0) Have His Carcase, 0.93\n",
      "1) Strong Poison, 0.86\n",
      "2) Busman's Honeymoon, 0.86\n",
      "3) A Presumption of Death (Mystery Masters Series), 0.75\n",
      "4) A Presumption of Death: A New Lord Peter Wimse..., 0.71\n",
      "5) The Nine Tailors, 0.67\n",
      "6) A Presumption of Death (Mystery Masters Series), 0.63\n",
      "\n"
     ]
    }
   ],
   "source": [
    "for metadata_index in GOT.index:\n",
    "    get_book_recommendations(metadata_index)\n",
    "    print(\"\")"
   ]
  },
  {
   "cell_type": "markdown",
   "metadata": {},
   "source": [
    "## Summary\n",
    "\n",
    "Well done! In this lab, you effectively created a recommendation system for a real world dataset!"
   ]
  }
 ],
 "metadata": {
  "kernelspec": {
   "display_name": "Python 3",
   "language": "python",
   "name": "python3"
  },
  "language_info": {
   "codemirror_mode": {
    "name": "ipython",
    "version": 3
   },
   "file_extension": ".py",
   "mimetype": "text/x-python",
   "name": "python",
   "nbconvert_exporter": "python",
   "pygments_lexer": "ipython3",
   "version": "3.6.6"
  }
 },
 "nbformat": 4,
 "nbformat_minor": 2
}
